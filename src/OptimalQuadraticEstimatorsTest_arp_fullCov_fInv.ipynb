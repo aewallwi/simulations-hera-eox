{
 "cells": [
  {
   "cell_type": "code",
   "execution_count": 2,
   "metadata": {
    "collapsed": true
   },
   "outputs": [],
   "source": [
    "%matplotlib inline\n",
    "\n",
    "import numpy as n\n",
    "import matplotlib.pyplot as p\n",
    "import numpy.fft as f\n",
    "import scipy.signal as sig\n",
    "import copy"
   ]
  },
  {
   "cell_type": "markdown",
   "metadata": {},
   "source": [
    "# Theory"
   ]
  },
  {
   "cell_type": "markdown",
   "metadata": {},
   "source": [
    "In this notebook, I investigate the ues of optimal quadratic estimators on a simple band limited signal with a naive fourier transform and constant covariance. \n",
    "\n",
    "According to Ali 2015, we first estimate $\\widehat{q}_\\alpha$ as \n",
    "$$\n",
    "\\widehat{q}_\\alpha = \\frac{1}{2} x^\\dagger C^{-1} Q_\\alpha C^{-1} x - b_\\alpha \n",
    "$$\n",
    "where x is the data vector, $C$ is the covariance matrix, and $Q_\\alpha$ performs the Fourier transform at the $\\alpha^{th}$ k-bin. The power spectrum is determined from $\\widehat{q}$ with the normalization matrix\n",
    "$$\n",
    "\\widehat{p} = M \\widehat{q}\n",
    "$$\n",
    "which results in $\\widehat{p}$ being composed of an add-mixture of different modes\n",
    "$$\n",
    "\\widehat{p} = W p\n",
    "$$\n",
    "where $W$ is the window function matrix with \n",
    "$$\n",
    "W = MF\n",
    "$$\n",
    "where\n",
    "$$\n",
    "F_{\\alpha \\beta} = \\frac{1}{2} tr\\left[ C^{-1} Q_\\alpha C^{-1} Q_\\beta \\right]\n",
    "$$\n",
    "If we do not weight $x$ by $C^{-1}$ but rather by an arbitrary weighting matrix which we will call $U$, we get a similar equation for $F$ with $C^{-1} \\to U$. \n",
    "$$\n",
    "F_{\\alpha \\beta} = \\frac{1}{2} tr \\left[ U Q_\\alpha U Q_\\beta \\right]\n",
    "$$\n",
    "In this notebook, I will test the normalization matrix technique with $U$ set to the identity and employ te weights matrix described in Ali-2015 where $F$ is Cholsky-decomposed into $LL^\\dagger$ with $L$ being lower triangular. Ali 2015 choose $M=D L^\\dagger$ where $D$ is a diagonal matrix that ensures that the rows of $W=MF=DL^{-1}F$ sum to one. \n"
   ]
  },
  {
   "cell_type": "markdown",
   "metadata": {},
   "source": [
    "# Simple Case"
   ]
  },
  {
   "cell_type": "markdown",
   "metadata": {},
   "source": [
    "We will consider a 20 frequency bins with 100 kHz widths between 149 and 151 MHz. The delay bins are 1/(2MHz) corresponding to $5 \\times 10^{-7}$sec. I will set the middle two delay-bins to equal unity and zero outside. We see that the blackman window brings the side-lobes to a similar level as the signal. "
   ]
  },
  {
   "cell_type": "code",
   "execution_count": 13,
   "metadata": {
    "collapsed": false
   },
   "outputs": [
    {
     "data": {
      "image/png": "[encoded data removed]",
      "text/plain": [
       "<matplotlib.figure.Figure at 0x1087f2fd0>"
      ]
     },
     "metadata": {},
     "output_type": "display_data"
    }
   ],
   "source": [
    "nf=20 #number of frequency bins\n",
    "df=1e5 #width of each bin\n",
    "npad=0#padding option, set to zero for now\n",
    "fAxis=150e6-nf/2*df+n.arange(-nf/2,nf/2)*df #frequency axis centered at 150 MHz. \n",
    "delays=f.fftshift(f.fftfreq(nf,fAxis[1]-fAxis[0])) #delay axis\n",
    "\n",
    "\n",
    "deltadelay=1 #number of delay sbins from zero (plus and minus) to contaminate with foregrounds\n",
    "ndelays=1+2*deltadelay #number of delays (at the center of the band) to contaminate\n",
    "delays2use=delays[(nf/2-deltadelay):(nf/2+deltadelay+1)] #delays to be contaminated by foregrounds\n",
    "data=n.zeros(nf,dtype=complex) #data vector (equal to foregrounds+signal)\n",
    "signal=n.zeros(nf,dtype=complex)#signal vector \n",
    "foregrounds=n.zeros(nf,dtype=complex)#foregrounds vector\n",
    "\n",
    "scaleForegrounds=100.\n",
    "scaleSignal=20e-3\n",
    "\n",
    "fAmps=n.random.normal(size=(ndelays,2),scale=scaleForegrounds)#each foreground mode is a complex exponential with period of delay\n",
    "                                              #gaussian random amplitude and uniform random phase\n",
    "sAmps=n.random.normal(size=(nf,2),scale=scaleSignal)     #signal amplitudes are gaussian in amplitude and uniform in phase. \n",
    "\n",
    "powerIndex=-0.8                               #modulate foreground amplitudes by power law index. \n",
    "\n",
    "#populate foregrounds\n",
    "for mm,delay in enumerate(delays2use):\n",
    "    foregrounds+=n.cos(2*n.pi*(fAxis-fAxis[nf/2])*delay)*(fAmps[mm,0])*(fAxis/fAxis[nf/2])**powerIndex\n",
    "    foregrounds+=1j*n.sin(2*n.pi*(fAxis-fAxis[nf/2])*delay)*(fAmps[mm,1])*(fAxis/fAxis[nf/2])**powerIndex\n",
    "\n",
    "\n",
    "#populated signal\n",
    "for mm,delay in enumerate(delays):\n",
    "    signal+=n.cos(2*n.pi*(fAxis-fAxis[nf/2])*delay)*(sAmps[mm,0])\n",
    "    signal+=1j*n.sin(2*n.pi*(fAxis-fAxis[nf/2])*delay)*(sAmps[mm,1])\n",
    "\n",
    "\n",
    "#window function\n",
    "window=sig.blackmanharris(nf)\n",
    "window[:]=1.\n",
    "\n",
    "#Apply padding, update delay axis. \n",
    "window=n.pad(window,((npad,npad)),mode='constant')\n",
    "data=n.pad(data,((npad,npad)),mode='constant')\n",
    "foregrounds=n.pad(foregrounds,((npad,npad)),mode='constant')\n",
    "signal=n.pad(signal,((npad,npad)),mode='constant')\n",
    "nf=nf+2*npad\n",
    "delays=f.fftshift(f.fftfreq(nf,fAxis[1]-fAxis[0]))\n",
    "\n",
    "\n",
    "#now generate a covariance matrix\n",
    "covDelay=n.diag(2.*n.ones(nf)*scaleSignal**2.)\n",
    "\n",
    "for mm in range(nf/2-deltadelay,nf/2+deltadelay+1):\n",
    "    covDelay[mm,mm]+=2.*scaleForegrounds**2.\n",
    "    \n",
    "p.imshow(covDelay,interpolation='nearest')\n",
    "p.show()\n",
    "#windowX,windowY=n.meshgrid(sig.blackmanharris(nf),sig.blackmanharris(nf))\n",
    "#covFrequency=n.fliplr(f.fftshift(f.ifft2(f.fftshift(covDelay*windowX*windowY))))\n",
    "covFrequency=n.fliplr(f.fftshift(f.ifft2(f.fftshift(covDelay))))\n",
    "\n",
    "\n",
    "\n",
    "fGrid,fpGrid=n.meshgrid(fAxis,fAxis)\n",
    "\n",
    "covFrequency=scaleForegrounds**2.*2*n.sinc(2*n.pi*(fGrid-fpGrid)*delays[nf/2+deltadelay+1])#n.sin(2*n.pi*(fGrid-fpGrid)*delays[nf/2-deltadelay])/(n.pi*(fGrid-fpGrid))\n",
    "covFrequency+=scaleSignal**2.*n.diag(n.ones((nf,1)))\n",
    "\n",
    "#print n.linalg.cond(covFrequency)\n",
    "U,S,V=n.linalg.svd(covFrequency.conj())\n",
    "covFrequencyInv=n.einsum('ij,j,jk',V.T,1./S,U.T)\n",
    "\n",
    "\n",
    "\n",
    "#straightforward windowed ffts of signal, data, and foregrounds for comparison\n",
    "fsignal=f.fftshift(f.fft(f.fftshift(signal*window)))\n",
    "fdata=f.fftshift(f.fft(f.fftshift(data*window)))\n",
    "fforegrounds=f.fftshift(f.fft(f.fftshift(foregrounds*window)))\n"
   ]
  },
  {
   "cell_type": "code",
   "execution_count": 14,
   "metadata": {
    "collapsed": false,
    "scrolled": false
   },
   "outputs": [
    {
     "data": {
      "text/plain": [
       "[<matplotlib.lines.Line2D at 0x1096e1350>]"
      ]
     },
     "execution_count": 14,
     "metadata": {},
     "output_type": "execute_result"
    },
    {
     "data": {
      "image/png": "[encoded data removed]",
      "text/plain": [
       "<matplotlib.figure.Figure at 0x1087f2490>"
      ]
     },
     "metadata": {},
     "output_type": "display_data"
    }
   ],
   "source": [
    "p.plot(window)"
   ]
  },
  {
   "cell_type": "markdown",
   "metadata": {},
   "source": [
    "First we construct the $Q_\\alpha$ matrices for each delay bin. We also compute unnormalized power spectra using the OQE formalism. We order data so that we have zero, than k0,-k1,k1,-k2,k2,-k3,k3 etc..."
   ]
  },
  {
   "cell_type": "code",
   "execution_count": 15,
   "metadata": {
    "collapsed": false,
    "scrolled": true
   },
   "outputs": [],
   "source": [
    "qMatrixFull=n.zeros((nf,nf,nf),dtype=complex) #the Qmatrix for all delay bins. the first axis is delay\n",
    "                                              #ordered a-la Ali 2015 as 0,-1,1,-2,2,-3,3,... so that \n",
    "                                              #Cholskey decomposition can prevent small k -> large k \n",
    "                                              #leakage\n",
    "                                              #the second and third axes are frequency and are ordered from -nf/2\n",
    "                                              #to nf/2-1 with zero in the center. \n",
    "                    \n",
    "fsignal_un=n.zeros(nf,dtype=complex)          #un-normalized signal (without M matrix application)\n",
    "fdata_un=n.zeros(nf,dtype=complex)            #un-normalized data  (un-normalized signal+un-normalized foregrounds)\n",
    "fforegrounds_un=n.zeros(nf,dtype=complex)     #un-normalized foregrounds\n",
    "\n",
    "\n",
    "\n",
    "\n",
    "uMatrix=covFrequencyInv\n",
    "\n",
    "\n",
    "#now generate un-normalized signal and foregrounds\n",
    "for mm,delay in enumerate(delays):\n",
    "    #cs=n.exp(2j*n.pi*(mm-nf/2)*n.arange(-nf/2.,nf/2.)/nf) #qmatrix is the outer product of signusoids. \n",
    "                                                            #note that the delay of the sinusoid is set by\n",
    "                                                             #delaymap\n",
    "    #cs*=window\n",
    "    _cs=n.zeros(nf)\n",
    "    _cs[mm]=1.\n",
    "    cs=f.fftshift(f.ifft(f.fftshift(_cs)))*window*nf\n",
    "    #qMatrix=n.outer((cs),n.conj(cs).T)                       #qmatrix is outer product of delay-transform\n",
    "    qMatrix=n.einsum('i,j',cs,cs.conj())\n",
    "    qMatrixFull[mm,:,:]=qMatrix                              #populate qmatrixfull row\n",
    "    \n",
    "    \n",
    "    fsignal_un[mm]=.5*n.dot(n.conj(n.dot(uMatrix,signal)).T,n.dot(qMatrix,n.dot(uMatrix,signal)))    #q=1/2 x W Q W x (signal)\n",
    "    fforegrounds_un[mm]=.5*n.dot(n.conj(n.dot(uMatrix,foregrounds)).T,n.dot(qMatrix,foregrounds)) #same for foregrounds\n",
    "    fdata_un[mm]=fforegrounds_un[mm]+fsignal_un[mm]  #data un-normalized = foregrounds+signal un-normalized\n",
    "    \n"
   ]
  },
  {
   "cell_type": "markdown",
   "metadata": {},
   "source": [
    "Now Compare OQE and direct fft power spectra. They are the same. This also verifies our indexing scheme."
   ]
  },
  {
   "cell_type": "code",
   "execution_count": 16,
   "metadata": {
    "collapsed": false
   },
   "outputs": [
    {
     "data": {
      "text/plain": [
       "<matplotlib.text.Text at 0x10891f4d0>"
      ]
     },
     "execution_count": 16,
     "metadata": {},
     "output_type": "execute_result"
    },
    {
     "data": {
      "image/png": "[encoded data removed]",
      "text/plain": [
       "<matplotlib.figure.Figure at 0x108915f10>"
      ]
     },
     "metadata": {},
     "output_type": "display_data"
    }
   ],
   "source": [
    "#plot power spectrum from windowed FT\n",
    "p.plot(delays*1e9,.5*n.abs(fdata)**2.,color='k')\n",
    "p.plot(delays*1e9,.5*n.abs(fsignal)**2.,color='r')\n",
    "p.plot(delays*1e9,.5*n.abs(fforegrounds)**2.,color='grey')\n",
    "\n",
    "#plot power spectrum from OQE application\n",
    "p.plot(delays*1e9,(n.abs(fdata_un[:])),color='k',marker='x',ls='none')\n",
    "p.plot(delays*1e9,(n.abs(fsignal_un[:])),color='r',marker='x',ls='none')\n",
    "p.plot(delays*1e9,(n.abs(fforegrounds_un[:])),color='grey',marker='x',ls='none')\n",
    "p.yscale('log')\n",
    "\n",
    "p.xlabel('delay')\n",
    "p.ylabel('P($\\\\tau$) arbitrary units')\n"
   ]
  },
  {
   "cell_type": "markdown",
   "metadata": {},
   "source": [
    "Now let's construct the $F$ matrix and perform Cholsky Decomposition."
   ]
  },
  {
   "cell_type": "code",
   "execution_count": 17,
   "metadata": {
    "collapsed": false
   },
   "outputs": [
    {
     "name": "stdout",
     "output_type": "stream",
     "text": [
      "20\n",
      "[10 11  9 12  8 19  0 13  7 14  6 15  5 16  4 17  3 18  2  1]\n"
     ]
    }
   ],
   "source": [
    "\n",
    "#uMatrix=n.diag(window).astype(complex) #this is the weighting matrix \n",
    "                                       #(taking the place of the inverse covariance matrix.)\n",
    "                                       #I take it to be the window function. \n",
    "fMatrix=n.zeros((nf,nf),dtype=complex)\n",
    "for mm in range(nf):\n",
    "    for nn in range(nf):\n",
    "        ftq=n.dot(uMatrix,n.dot(qMatrixFull[mm,:,:],n.dot(uMatrix,qMatrixFull[nn,:,:])))\n",
    "        fMatrix[mm,nn]=.5*n.trace(ftq)\n",
    "\n",
    "\n",
    "order = n.array([10,11,9,12,8,20,0,13,7,14,6,15,5,16,4,17,3,18,2,19,1]) # XXX needs generalizing\n",
    "order=n.array([10,11,9,12,8,19,0,13,7,14,6,15,5,16,4,17,3,18,2,1])\n",
    "print len(order)\n",
    "\n",
    "order=n.zeros(nf)\n",
    "order[0]=nf/2\n",
    "order[1]=nf/2+1\n",
    "order[2]=nf/2-1\n",
    "order[3]=nf/2+2\n",
    "order[4]=nf/2-2\n",
    "order[5]=nf-1\n",
    "order[6]=0\n",
    "\n",
    "for mm in range(4,nf/2):\n",
    "    order[2*mm-1]=nf/2+mm-1\n",
    "    order[2*mm]=nf/2-mm+1\n",
    "\n",
    "order[-1]=1\n",
    "order=order.astype(int)\n",
    "    \n",
    "print order\n",
    "#iorder = n.argsort(order)\n",
    "#fMatrix_o = n.take(n.take(fMatrix,order, axis=0), order, axis=1)\n",
    "#lMatrix_o = n.linalg.cholesky(fMatrix_o)\n",
    "#U,S,V = n.linalg.svd(lMatrix_o.conj())\n",
    "#mMatrix_o = n.dot(n.transpose(V), n.dot(n.diag(1./S), n.transpose(U)))      \n",
    "#mMatrix = n.take(n.take(mMatrix_o,iorder, axis=0), iorder, axis=1)\n",
    "\n",
    "#wMatrix=n.dot(mMatrix,fMatrix)\n",
    "#norm  = wMatrix.sum(axis=-1); norm.shape += (1,)\n",
    "#mMatrix/=norm; wMatrix=n.dot(mMatrix,fMatrix)\n",
    "mMatrix=n.linalg.inv(fMatrix)\n",
    "\n",
    "\n",
    "#mMatrix=n.linalg.inv(fMatrix)\n",
    "\n",
    "fdata_n=n.dot(mMatrix,fdata_un.T)\n",
    "fsignal_n=n.dot(mMatrix,fsignal_un.T)\n",
    "fforegrounds_n=n.dot(mMatrix,fforegrounds_un.T)\n",
    "\n"
   ]
  },
  {
   "cell_type": "code",
   "execution_count": 18,
   "metadata": {
    "collapsed": false
   },
   "outputs": [
    {
     "name": "stdout",
     "output_type": "stream",
     "text": [
      "(20, 20)\n",
      "(20,)\n"
     ]
    }
   ],
   "source": [
    "print mMatrix.shape\n",
    "print fforegrounds_un.shape"
   ]
  },
  {
   "cell_type": "code",
   "execution_count": 19,
   "metadata": {
    "collapsed": false
   },
   "outputs": [
    {
     "data": {
      "image/png": "[encoded data removed]",
      "text/plain": [
       "<matplotlib.figure.Figure at 0x108be8410>"
      ]
     },
     "metadata": {},
     "output_type": "display_data"
    }
   ],
   "source": [
    "p.imshow(n.log10(n.abs(n.dot(mMatrix,fMatrix))),interpolation='nearest',vmin=-18,vmax=0)\n",
    "p.colorbar()\n",
    "p.show()"
   ]
  },
  {
   "cell_type": "markdown",
   "metadata": {},
   "source": [
    "Compare the normalized power spectrum $\\widehat{p} = M \\widehat{q}$. Things definitely don't look better..."
   ]
  },
  {
   "cell_type": "code",
   "execution_count": 20,
   "metadata": {
    "collapsed": false,
    "scrolled": true
   },
   "outputs": [
    {
     "data": {
      "image/png": "[encoded data removed]",
      "text/plain": [
       "<matplotlib.figure.Figure at 0x1088fec90>"
      ]
     },
     "metadata": {},
     "output_type": "display_data"
    }
   ],
   "source": [
    "#p.plot(delays*1e9,n.abs(fdata_un[:]),color='k',marker='o',ls='none')\n",
    "#p.plot(delays*1e9,n.abs(fsignal_un[:]),color='r',marker='o',ls='none')\n",
    "#p.plot(delays*1e9,n.abs(fforegrounds_un[:]),color='grey',marker='o',ls='none')\n",
    "\n",
    "p.plot(delays*1e9,(n.abs(fdata_n[:])),color='k',marker='x')#,ls='none')\n",
    "p.plot(delays*1e9,(n.abs(fsignal_n[:])),color='r',marker='x')#,ls='none')\n",
    "p.plot(delays*1e9,(n.abs(fforegrounds_n[:])),color='grey',marker='x')#,ls='none')\n",
    "p.yscale('log')\n"
   ]
  },
  {
   "cell_type": "markdown",
   "metadata": {},
   "source": [
    "Lets check on the window function which is equal to $W=MF=DL^\\dagger$ and compare to the unnormalized window function. We see that the unnormalized window function is a blackman harris window while the normalized one is a blackman with the lower k values excised. This seems sensible and I'm surprised that we are seeing as much foreground leakage as we are. "
   ]
  },
  {
   "cell_type": "code",
   "execution_count": 21,
   "metadata": {
    "collapsed": false
   },
   "outputs": [
    {
     "ename": "NameError",
     "evalue": "name 'wMatrix' is not defined",
     "output_type": "error",
     "traceback": [
      "\u001b[0;31m---------------------------------------------------------------------------\u001b[0m",
      "\u001b[0;31mNameError\u001b[0m                                 Traceback (most recent call last)",
      "\u001b[0;32m<ipython-input-21-5e6378995511>\u001b[0m in \u001b[0;36m<module>\u001b[0;34m()\u001b[0m\n\u001b[0;32m----> 1\u001b[0;31m \u001b[0mp\u001b[0m\u001b[0;34m.\u001b[0m\u001b[0mimshow\u001b[0m\u001b[0;34m(\u001b[0m\u001b[0mn\u001b[0m\u001b[0;34m.\u001b[0m\u001b[0mlog10\u001b[0m\u001b[0;34m(\u001b[0m\u001b[0mn\u001b[0m\u001b[0;34m.\u001b[0m\u001b[0mabs\u001b[0m\u001b[0;34m(\u001b[0m\u001b[0mwMatrix\u001b[0m\u001b[0;34m)\u001b[0m\u001b[0;34m)\u001b[0m\u001b[0;34m,\u001b[0m\u001b[0minterpolation\u001b[0m\u001b[0;34m=\u001b[0m\u001b[0;34m'nearest'\u001b[0m\u001b[0;34m)\u001b[0m\u001b[0;34m\u001b[0m\u001b[0m\n\u001b[0m\u001b[1;32m      2\u001b[0m \u001b[0mp\u001b[0m\u001b[0;34m.\u001b[0m\u001b[0mcolorbar\u001b[0m\u001b[0;34m(\u001b[0m\u001b[0;34m)\u001b[0m\u001b[0;34m\u001b[0m\u001b[0m\n\u001b[1;32m      3\u001b[0m \u001b[0mp\u001b[0m\u001b[0;34m.\u001b[0m\u001b[0mshow\u001b[0m\u001b[0;34m(\u001b[0m\u001b[0;34m)\u001b[0m\u001b[0;34m\u001b[0m\u001b[0m\n",
      "\u001b[0;31mNameError\u001b[0m: name 'wMatrix' is not defined"
     ]
    }
   ],
   "source": [
    "p.imshow(n.log10(n.abs(wMatrix)),interpolation='nearest')\n",
    "p.colorbar()\n",
    "p.show()"
   ]
  },
  {
   "cell_type": "code",
   "execution_count": null,
   "metadata": {
    "collapsed": true
   },
   "outputs": [],
   "source": []
  },
  {
   "cell_type": "code",
   "execution_count": null,
   "metadata": {
    "collapsed": true
   },
   "outputs": [],
   "source": []
  }
 ],
 "metadata": {
  "kernelspec": {
   "display_name": "Python 2",
   "language": "python",
   "name": "python2"
  },
  "language_info": {
   "codemirror_mode": {
    "name": "ipython",
    "version": 2
   },
   "file_extension": ".py",
   "mimetype": "text/x-python",
   "name": "python",
   "nbconvert_exporter": "python",
   "pygments_lexer": "ipython2",
   "version": "2.7.12"
  }
 },
 "nbformat": 4,
 "nbformat_minor": 0
}
