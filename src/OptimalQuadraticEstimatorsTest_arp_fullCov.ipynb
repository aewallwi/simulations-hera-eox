{
 "cells": [
  {
   "cell_type": "code",
   "execution_count": 2,
   "metadata": {
    "collapsed": true
   },
   "outputs": [],
   "source": [
    "%matplotlib inline\n",
    "\n",
    "import numpy as n\n",
    "import matplotlib.pyplot as p\n",
    "import numpy.fft as f\n",
    "import scipy.signal as sig\n",
    "import copy"
   ]
  },
  {
   "cell_type": "markdown",
   "metadata": {},
   "source": [
    "# Theory"
   ]
  },
  {
   "cell_type": "markdown",
   "metadata": {},
   "source": [
    "In this notebook, I investigate the ues of optimal quadratic estimators on a simple band limited signal with a naive fourier transform and constant covariance. \n",
    "\n",
    "According to Ali 2015, we first estimate $\\widehat{q}_\\alpha$ as \n",
    "$$\n",
    "\\widehat{q}_\\alpha = \\frac{1}{2} x^\\dagger C^{-1} Q_\\alpha C^{-1} x - b_\\alpha \n",
    "$$\n",
    "where x is the data vector, $C$ is the covariance matrix, and $Q_\\alpha$ performs the Fourier transform at the $\\alpha^{th}$ k-bin. The power spectrum is determined from $\\widehat{q}$ with the normalization matrix\n",
    "$$\n",
    "\\widehat{p} = M \\widehat{q}\n",
    "$$\n",
    "which results in $\\widehat{p}$ being composed of an add-mixture of different modes\n",
    "$$\n",
    "\\widehat{p} = W p\n",
    "$$\n",
    "where $W$ is the window function matrix with \n",
    "$$\n",
    "W = MF\n",
    "$$\n",
    "where\n",
    "$$\n",
    "F_{\\alpha \\beta} = \\frac{1}{2} tr\\left[ C^{-1} Q_\\alpha C^{-1} Q_\\beta \\right]\n",
    "$$\n",
    "If we do not weight $x$ by $C^{-1}$ but rather by an arbitrary weighting matrix which we will call $U$, we get a similar equation for $F$ with $C^{-1} \\to U$. \n",
    "$$\n",
    "F_{\\alpha \\beta} = \\frac{1}{2} tr \\left[ U Q_\\alpha U Q_\\beta \\right]\n",
    "$$\n",
    "In this notebook, I will test the normalization matrix technique with $U$ set to the identity and employ te weights matrix described in Ali-2015 where $F$ is Cholsky-decomposed into $LL^\\dagger$ with $L$ being lower triangular. Ali 2015 choose $M=D L^\\dagger$ where $D$ is a diagonal matrix that ensures that the rows of $W=MF=DL^{-1}F$ sum to one. \n"
   ]
  },
  {
   "cell_type": "markdown",
   "metadata": {},
   "source": [
    "# Simple Case"
   ]
  },
  {
   "cell_type": "markdown",
   "metadata": {},
   "source": [
    "We will consider a 20 frequency bins with 100 kHz widths between 149 and 151 MHz. The delay bins are 1/(2MHz) corresponding to $5 \\times 10^{-7}$sec. I will set the middle two delay-bins to equal unity and zero outside. We see that the blackman window brings the side-lobes to a similar level as the signal. "
   ]
  },
  {
   "cell_type": "code",
   "execution_count": 3,
   "metadata": {
    "collapsed": false
   },
   "outputs": [],
   "source": [
    "nf=40 #number of frequency bins\n",
    "df=1e5 #width of each bin\n",
    "npad=0#padding option, set to zero for now\n",
    "fAxis=150e6-nf/2*df+n.arange(-nf/2,nf/2)*df #frequency axis centered at 150 MHz. \n",
    "delays=f.fftshift(f.fftfreq(nf,fAxis[1]-fAxis[0])) #delay axis\n",
    "\n",
    "\n",
    "deltadelay=4 #number of delay sbins from zero (plus and minus) to contaminate with foregrounds\n",
    "ndelays=2*deltadelay #number of delays (at the center of the band) to contaminate\n",
    "delays2use=delays[(nf/2-deltadelay):(nf/2+deltadelay)] #delays to be contaminated by foregrounds\n",
    "data=n.zeros(nf,dtype=complex) #data vector (equal to foregrounds+signal)\n",
    "signal=n.zeros(nf,dtype=complex)#signal vector \n",
    "foregrounds=n.zeros(nf,dtype=complex)#foregrounds vector\n",
    "\n",
    "scaleForegrounds=1000.\n",
    "scaleSignal=30e-4\n",
    "\n",
    "fAmps=n.random.normal(size=(ndelays,2),scale=scaleForegrounds)#each foreground mode is a complex exponential with period of delay\n",
    "                                              #gaussian random amplitude and uniform random phase\n",
    "sAmps=n.random.normal(size=(nf,2),scale=scaleSignal)     #signal amplitudes are gaussian in amplitude and uniform in phase. \n",
    "\n",
    "powerIndex=-0.8                               #modulate foreground amplitudes by power law index. \n",
    "\n",
    "#populate foregrounds\n",
    "for mm,delay in enumerate(delays2use):\n",
    "    foregrounds+=n.cos(2*n.pi*(fAxis-fAxis[nf/2])*delay)*(fAmps[mm,0])*(fAxis/fAxis[nf/2])**powerIndex\n",
    "    foregrounds+=1j*n.sin(2*n.pi*(fAxis-fAxis[nf/2])*delay)*(fAmps[mm,1])*(fAxis/fAxis[nf/2])**powerIndex\n",
    "\n",
    "\n",
    "#populated signal\n",
    "for mm,delay in enumerate(delays):\n",
    "    signal+=n.cos(2*n.pi*(fAxis-fAxis[nf/2])*delay)*(sAmps[mm,0])\n",
    "    signal+=1j*n.sin(2*n.pi*(fAxis-fAxis[nf/2])*delay)*(sAmps[mm,1])\n",
    "\n",
    "data=foregrounds+signal\n",
    "#window function\n",
    "window=sig.blackmanharris(nf)\n",
    "window/=n.sqrt(n.mean(window**2.))\n",
    "#window[:]=1.\n",
    "\n",
    "#Apply padding, update delay axis. \n",
    "window=n.pad(window,((npad,npad)),mode='constant')\n",
    "data=n.pad(data,((npad,npad)),mode='constant')\n",
    "foregrounds=n.pad(foregrounds,((npad,npad)),mode='constant')\n",
    "signal=n.pad(signal,((npad,npad)),mode='constant')\n",
    "nf=nf+2*npad\n",
    "delays=f.fftshift(f.fftfreq(nf,fAxis[1]-fAxis[0]))\n",
    "\n",
    "\n",
    "#now generate a covariance matrix\n",
    "#covDelay=n.diag(2.*n.ones(nf)*scaleSignal**2.)\n",
    "\n",
    "#for mm in range(nf/2-deltadelay,nf/2+deltadelay+1):\n",
    "#    covDelay[mm,mm]+=2.*scaleForegrounds**2.\n",
    "    \n",
    "\n",
    "#windowX,windowY=n.meshgrid(sig.blackmanharris(nf),sig.blackmanharris(nf))\n",
    "#covFrequency=n.real(n.fliplr(f.fftshift(f.ifft2(f.fftshift(covDelay*windowX*windowY)))))\n",
    "#covFrequency=n.real(n.fliplr(f.fftshift(f.ifft2(f.fftshift(covDelay)))))\n",
    "\n",
    "\n",
    "\n",
    "fGrid,fpGrid=n.meshgrid(fAxis,fAxis)\n",
    "reg=1e-4\n",
    "covFrequencySignal=reg*n.identity(nf)#(scaleSignal**2.+reg)*n.identity(nf)\n",
    "covFrequency=covFrequencySignal+scaleForegrounds**2.*2*n.sinc(2*(fGrid-fpGrid)*delays[nf/2+deltadelay+1])#n.sin(2*n.pi*(fGrid-fpGrid)*delays[nf/2-deltadelay])/(n.pi*(fGrid-fpGrid))\n",
    "#covFrequency=n.identity(nf)\n",
    "#print n.linalg.cond(covFrequency)\n",
    "U,S,V=n.linalg.svd(covFrequency.conj())\n",
    "covFrequencyInv=n.einsum('ij,j,jk',V.T,1./S,U.T)\n",
    "covFrequencySignalInv=n.linalg.inv(covFrequencySignal)\n",
    "\n",
    "\n",
    "#straightforward windowed ffts of signal, data, and foregrounds for comparison\n",
    "fsignal=f.fftshift(f.fft(f.fftshift(signal*window)))\n",
    "fdata=f.fftshift(f.fft(f.fftshift(data*window)))\n",
    "fforegrounds=f.fftshift(f.fft(f.fftshift(foregrounds*window)))\n"
   ]
  },
  {
   "cell_type": "code",
   "execution_count": 4,
   "metadata": {
    "collapsed": false
   },
   "outputs": [
    {
     "name": "stdout",
     "output_type": "stream",
     "text": [
      "80001361298.1\n"
     ]
    }
   ],
   "source": [
    "print n.linalg.cond(covFrequency)"
   ]
  },
  {
   "cell_type": "code",
   "execution_count": 5,
   "metadata": {
    "collapsed": false
   },
   "outputs": [
    {
     "data": {
      "image/png": "[encoded data removed]",
      "text/plain": [
       "<matplotlib.figure.Figure at 0x113b98290>"
      ]
     },
     "metadata": {},
     "output_type": "display_data"
    },
    {
     "data": {
      "image/png": "[encoded data removed]",
      "text/plain": [
       "<matplotlib.figure.Figure at 0x1144a6e10>"
      ]
     },
     "metadata": {},
     "output_type": "display_data"
    },
    {
     "data": {
      "image/png": "[encoded data removed]",
      "text/plain": [
       "<matplotlib.figure.Figure at 0x1145dfb90>"
      ]
     },
     "metadata": {},
     "output_type": "display_data"
    }
   ],
   "source": [
    "p.imshow((covFrequency),interpolation='nearest')\n",
    "p.show()\n",
    "p.imshow((covFrequencyInv),interpolation='nearest')\n",
    "p.show()\n",
    "p.imshow(n.dot(covFrequencyInv,covFrequency),interpolation='nearest')\n",
    "p.show()"
   ]
  },
  {
   "cell_type": "markdown",
   "metadata": {},
   "source": [
    "First we construct the $Q_\\alpha$ matrices for each delay bin. We also compute unnormalized power spectra using the OQE formalism. We order data so that we have zero, than k0,-k1,k1,-k2,k2,-k3,k3 etc..."
   ]
  },
  {
   "cell_type": "code",
   "execution_count": 6,
   "metadata": {
    "collapsed": false,
    "scrolled": true
   },
   "outputs": [],
   "source": [
    "def oqe(x,wF=None,cInv=None,mode='L^-1'):\n",
    "    modes=['F^-1','F^-1/2','L^-1','I']; assert(mode in modes)\n",
    "    nf=len(x)\n",
    "    if(cInv is None):\n",
    "        cInv=n.identity(nf)\n",
    "    if(wF is None):\n",
    "        wF=n.ones(nf)\n",
    "    qMatrices=n.zeros((nf,nf,nf),dtype=complex)\n",
    "    qHat=n.zeros(nf,dtype=complex)\n",
    "    pHat=n.zeros(nf,dtype=complex)\n",
    "    wMat=n.zeros(nf,dtype=complex)\n",
    "    mMat=n.zeros((nf,nf),dtype=complex)\n",
    "    fMat=n.zeros((nf,nf),dtype=complex)\n",
    "    #construct q matrices\n",
    "    z=n.dot(cInv,x)\n",
    "    #construct qhat\n",
    "    for mm in range(nf):\n",
    "        _m=n.zeros(nf)\n",
    "        _m[mm]=1.\n",
    "        m=f.fftshift(f.ifft(f.fftshift(_m)))*wF*nf\n",
    "        qMat=n.einsum('i,j',m,m.conj())\n",
    "        qMatrices[mm,:,:]=qMat\n",
    "        qHat[mm]=n.dot(n.conj(z).T,n.dot(qMat,z))\n",
    "    #construct fMat\n",
    "    for mm in range(nf):\n",
    "        for nn in range(nf):\n",
    "            ftq=n.dot(cInv,n.dot(qMatrices[mm,:,:],n.dot(cInv,qMatrices[nn,:,:])))\n",
    "            fMat[mm,nn]=n.trace(ftq)\n",
    "        \n",
    "    #construct mMat\n",
    "    if(mode=='F^-1'):\n",
    "        mMat=n.linalg.inv(fMat)\n",
    "        wMat=n.identity(nf)\n",
    "    elif(mode=='F^-1/2'):\n",
    "        U,S,V=n.linalg.svd(fMat.conj())\n",
    "        mMat=n.linalg.einsum('ij,j,jk',U.T,1./n.sqrt(S),V.T)\n",
    "    elif(mode=='L^-1'):\n",
    "        order=n.zeros(nf)\n",
    "        order[0]=nf/2\n",
    "        order[1]=nf/2+1\n",
    "        order[2]=nf/2-1\n",
    "        order[3]=nf/2+2\n",
    "        order[4]=nf/2-2\n",
    "        order[5]=nf-1\n",
    "        order[6]=0\n",
    "        for mm in range(4,nf/2):\n",
    "            order[2*mm-1]=nf/2+mm-1\n",
    "            order[2*mm]=nf/2-mm+1\n",
    "        order[-1]=1\n",
    "        order=order.astype(int)\n",
    "        \n",
    "        iorder = n.argsort(order)\n",
    "        fMat_o = n.take(n.take(fMat,order, axis=0), order, axis=1)\n",
    "        lMat_o = n.linalg.cholesky(fMat_o)\n",
    "        U,S,V = n.linalg.svd(lMat_o.conj())\n",
    "        mMat_o = n.dot(n.transpose(V), n.dot(n.diag(1./S), n.transpose(U)))      \n",
    "        mMat = n.take(n.take(mMat_o,iorder, axis=0), iorder, axis=1)\n",
    "    elif(mode=='I'):\n",
    "        mMat=n.identity(nf,dtype=complex)\n",
    "        \n",
    "    wMat=n.dot(mMat,fMat)\n",
    "    norm  = wMat.sum(axis=-1); norm.shape += (1,)\n",
    "    mMat/=norm; wMat=n.dot(mMat,fMat)\n",
    "    pHat=n.dot(mMat,qHat)\n",
    "    return qHat,pHat,wMat,fMat\n"
   ]
  },
  {
   "cell_type": "markdown",
   "metadata": {},
   "source": [
    "Now Compare OQE and direct fft power spectra. They are the same. This also verifies our indexing scheme."
   ]
  },
  {
   "cell_type": "code",
   "execution_count": 7,
   "metadata": {
    "collapsed": false
   },
   "outputs": [],
   "source": [
    "qHat_data_lInv_fullCov,pHat_data_lInv_fullCov,wMat_data_lInv_fullCov,_=oqe(x=data,wF=window,cInv=covFrequencyInv,mode='L^-1')"
   ]
  },
  {
   "cell_type": "code",
   "execution_count": 8,
   "metadata": {
    "collapsed": true
   },
   "outputs": [],
   "source": [
    "qHat_data_lInv_idCov,pHat_data_lInv_idCov,wMat_data_lInv_idCov,_=oqe(x=data,wF=window,mode='L^-1')"
   ]
  },
  {
   "cell_type": "code",
   "execution_count": 9,
   "metadata": {
    "collapsed": true
   },
   "outputs": [],
   "source": [
    "qHat_data_lInv_idCov_idW,pHat_data_lInv_idCov_idW,wMat_data_lInv_idCov_idW,_=oqe(x=data,mode='L^-1')"
   ]
  },
  {
   "cell_type": "code",
   "execution_count": 10,
   "metadata": {
    "collapsed": true
   },
   "outputs": [],
   "source": [
    "qHat_data_id_idCov,pHat_data_id_idCov,wMat_data_lInv_idCov,_=oqe(x=data,wF=window,mode='I')"
   ]
  },
  {
   "cell_type": "code",
   "execution_count": 14,
   "metadata": {
    "collapsed": false
   },
   "outputs": [
    {
     "data": {
      "text/plain": [
       "<matplotlib.text.Text at 0x114496550>"
      ]
     },
     "execution_count": 14,
     "metadata": {},
     "output_type": "execute_result"
    },
    {
     "data": {
      "image/png": "[encoded data removed]",
      "text/plain": [
       "<matplotlib.figure.Figure at 0x114896250>"
      ]
     },
     "metadata": {},
     "output_type": "display_data"
    }
   ],
   "source": [
    "#plot power spectrum from windowed FT\n",
    "p.plot(delays*1e9,n.abs(fdata)**2./nf/nf,color='r')\n",
    "p.plot(delays*1e9,n.abs(fsignal)**2./nf/nf,color='k')\n",
    "#p.plot(delays*1e9,n.abs(fforegrounds)**2.,color='grey')\n",
    "#p.plot(delays*1e9,(n.abs(pHat_data_id_idCov[:])),color='r',marker='o',ls='none')\n",
    "\n",
    "p.axvline(delays[nf/2+deltadelay]*1e9,ls='--',color='k')\n",
    "p.axvline(delays[nf/2-deltadelay]*1e9,ls='--',color='k')\n",
    "\n",
    "#plot power spectrum from OQE application\n",
    "#p.plot(delays*1e9,(n.abs(qHat_data_lInv_fullCov[:])),color='k',marker='x',ls='none')\n",
    "p.plot(delays*1e9,(n.abs(pHat_data_lInv_fullCov[:])),color='r',marker='x',ls='none')\n",
    "\n",
    "p.plot(delays*1e9,(n.abs(pHat_data_id_idCov[:])),color='k',marker='o',ls='none')\n",
    "p.plot(delays*1e9,(n.abs(qHat_data_id_idCov[:]))/nf/nf,color='r',marker='o',ls='none')\n",
    "\n",
    "\n",
    "#p.plot(delays*1e9,(n.abs(qHat_data_lInv_idCov_idW[:])),color='k',marker='d',ls='none')\n",
    "#p.plot(delays*1e9,(n.abs(pHat_data_lInv_idCov_idW[:])),color='r',marker='d',ls='none')\n",
    "#p.plot(delays*1e9,(n.abs(fforegrounds_un[:])),color='grey',marker='x',ls='none')\n",
    "p.yscale('log')\n",
    "p.ylim(1e-8,1e4)\n",
    "p.xlabel('delay')\n",
    "p.ylabel('P($\\\\tau$) arbitrary units')\n"
   ]
  },
  {
   "cell_type": "code",
   "execution_count": 207,
   "metadata": {
    "collapsed": false
   },
   "outputs": [
    {
     "name": "stdout",
     "output_type": "stream",
     "text": [
      "[  3.86265256e-03 +6.93108765e-14j   4.83834962e-03 -3.06143999e-13j\n",
      "   7.99427414e-03 -7.87148124e-14j   1.34522129e-02 +9.71445147e-16j\n",
      "   2.93505389e-02 -6.83342272e-14j   6.72368242e-02 -5.21804822e-14j\n",
      "   1.76006493e-01 -3.35287353e-14j   5.43539625e-01 -2.69118061e-13j\n",
      "   1.95976947e+00 +5.68434189e-14j   8.63260382e+00 -2.48689958e-13j\n",
      "   4.28437685e+01 +1.50990331e-13j   8.12155871e+03 +2.55795385e-13j\n",
      "   2.88737214e+04 +1.13686838e-13j   1.90367108e+04 +7.95807864e-13j\n",
      "   3.15284256e+03 -1.13686838e-13j   1.28810197e+02 +1.24344979e-13j\n",
      "   1.01782435e+00 -8.07132139e-14j   6.52797307e-04 -7.00065006e-14j\n",
      "   1.65601334e-05 +6.15653362e-14j   5.12033780e-07 +9.78173705e-14j\n",
      "   2.40588229e-05 +3.66197415e-14j   1.38508766e-05 +6.88338275e-14j\n",
      "   1.56183692e-05 +4.43013681e-14j   1.15301973e-02 +2.81441537e-14j\n",
      "   5.74810223e+00 +1.70197190e-13j   3.54173917e+02 +1.24344979e-13j\n",
      "   4.39541948e+03 -1.70530257e-13j   1.27674233e+04 -4.54747351e-13j\n",
      "   7.36334583e+03 -3.41060513e-13j   2.38155719e+02 +4.12114787e-13j\n",
      "   3.78716807e+01 +8.88178420e-16j   2.34322775e+00 -2.34479103e-13j\n",
      "   1.87114612e-01 +2.85993451e-13j   1.10131773e-02 +7.64166508e-13j\n",
      "   1.21675879e-04 +1.27189925e-14j   2.00280160e-03 -2.20212737e-13j\n",
      "   3.37127437e-03 -1.72126202e-13j   3.46634121e-03 +4.12517243e-14j\n",
      "   3.53873557e-03 -1.73194792e-14j   3.43165606e-03 +2.47024623e-14j]\n"
     ]
    }
   ],
   "source": [
    "print qHat_data_lInv_fullCov"
   ]
  },
  {
   "cell_type": "markdown",
   "metadata": {},
   "source": [
    "Now let's construct the $F$ matrix and perform Cholsky Decomposition."
   ]
  },
  {
   "cell_type": "code",
   "execution_count": 208,
   "metadata": {
    "collapsed": false
   },
   "outputs": [
    {
     "ename": "NameError",
     "evalue": "name 'uMatrix' is not defined",
     "output_type": "error",
     "traceback": [
      "\u001b[0;31m---------------------------------------------------------------------------\u001b[0m",
      "\u001b[0;31mNameError\u001b[0m                                 Traceback (most recent call last)",
      "\u001b[0;32m<ipython-input-208-e0424e7a625a>\u001b[0m in \u001b[0;36m<module>\u001b[0;34m()\u001b[0m\n\u001b[1;32m      6\u001b[0m \u001b[0;32mfor\u001b[0m \u001b[0mmm\u001b[0m \u001b[0;32min\u001b[0m \u001b[0mrange\u001b[0m\u001b[0;34m(\u001b[0m\u001b[0mnf\u001b[0m\u001b[0;34m)\u001b[0m\u001b[0;34m:\u001b[0m\u001b[0;34m\u001b[0m\u001b[0m\n\u001b[1;32m      7\u001b[0m     \u001b[0;32mfor\u001b[0m \u001b[0mnn\u001b[0m \u001b[0;32min\u001b[0m \u001b[0mrange\u001b[0m\u001b[0;34m(\u001b[0m\u001b[0mnf\u001b[0m\u001b[0;34m)\u001b[0m\u001b[0;34m:\u001b[0m\u001b[0;34m\u001b[0m\u001b[0m\n\u001b[0;32m----> 8\u001b[0;31m         \u001b[0mftq\u001b[0m\u001b[0;34m=\u001b[0m\u001b[0mn\u001b[0m\u001b[0;34m.\u001b[0m\u001b[0mdot\u001b[0m\u001b[0;34m(\u001b[0m\u001b[0muMatrix\u001b[0m\u001b[0;34m,\u001b[0m\u001b[0mn\u001b[0m\u001b[0;34m.\u001b[0m\u001b[0mdot\u001b[0m\u001b[0;34m(\u001b[0m\u001b[0mqMatrixFull\u001b[0m\u001b[0;34m[\u001b[0m\u001b[0mmm\u001b[0m\u001b[0;34m,\u001b[0m\u001b[0;34m:\u001b[0m\u001b[0;34m,\u001b[0m\u001b[0;34m:\u001b[0m\u001b[0;34m]\u001b[0m\u001b[0;34m,\u001b[0m\u001b[0mn\u001b[0m\u001b[0;34m.\u001b[0m\u001b[0mdot\u001b[0m\u001b[0;34m(\u001b[0m\u001b[0muMatrix\u001b[0m\u001b[0;34m,\u001b[0m\u001b[0mqMatrixFull\u001b[0m\u001b[0;34m[\u001b[0m\u001b[0mnn\u001b[0m\u001b[0;34m,\u001b[0m\u001b[0;34m:\u001b[0m\u001b[0;34m,\u001b[0m\u001b[0;34m:\u001b[0m\u001b[0;34m]\u001b[0m\u001b[0;34m)\u001b[0m\u001b[0;34m)\u001b[0m\u001b[0;34m)\u001b[0m\u001b[0;34m\u001b[0m\u001b[0m\n\u001b[0m\u001b[1;32m      9\u001b[0m         \u001b[0mfMatrix\u001b[0m\u001b[0;34m[\u001b[0m\u001b[0mmm\u001b[0m\u001b[0;34m,\u001b[0m\u001b[0mnn\u001b[0m\u001b[0;34m]\u001b[0m\u001b[0;34m=\u001b[0m\u001b[0;36m.5\u001b[0m\u001b[0;34m*\u001b[0m\u001b[0mn\u001b[0m\u001b[0;34m.\u001b[0m\u001b[0mtrace\u001b[0m\u001b[0;34m(\u001b[0m\u001b[0mftq\u001b[0m\u001b[0;34m)\u001b[0m\u001b[0;34m\u001b[0m\u001b[0m\n\u001b[1;32m     10\u001b[0m \u001b[0;34m\u001b[0m\u001b[0m\n",
      "\u001b[0;31mNameError\u001b[0m: name 'uMatrix' is not defined"
     ]
    }
   ],
   "source": [
    "\n",
    "#uMatrix=n.diag(window).astype(complex) #this is the weighting matrix \n",
    "                                       #(taking the place of the inverse covariance matrix.)\n",
    "                                       #I take it to be the window function. \n",
    "fMatrix=n.zeros((nf,nf),dtype=complex)\n",
    "for mm in range(nf):\n",
    "    for nn in range(nf):\n",
    "        ftq=n.dot(uMatrix,n.dot(qMatrixFull[mm,:,:],n.dot(uMatrix,qMatrixFull[nn,:,:])))\n",
    "        fMatrix[mm,nn]=.5*n.trace(ftq)\n",
    "\n",
    "\n",
    "order = n.array([10,11,9,12,8,20,0,13,7,14,6,15,5,16,4,17,3,18,2,19,1]) # XXX needs generalizing\n",
    "order=n.array([10,11,9,12,8,19,0,13,7,14,6,15,5,16,4,17,3,18,2,1])\n",
    "print len(order)\n",
    "\n",
    "\n",
    "    \n",
    "print order\n",
    "iorder = n.argsort(order)\n",
    "fMatrix_o = n.take(n.take(fMatrix,order, axis=0), order, axis=1)\n",
    "lMatrix_o = n.linalg.cholesky(fMatrix_o)\n",
    "U,S,V = n.linalg.svd(lMatrix_o.conj())\n",
    "mMatrix_o = n.dot(n.transpose(V), n.dot(n.diag(1./S), n.transpose(U)))      \n",
    "mMatrix = n.take(n.take(mMatrix_o,iorder, axis=0), iorder, axis=1)\n",
    "\n",
    "wMatrix=n.dot(mMatrix,fMatrix)\n",
    "norm  = wMatrix.sum(axis=-1); norm.shape += (1,)\n",
    "mMatrix/=norm; wMatrix=n.dot(mMatrix,fMatrix)\n",
    "\n",
    "\n",
    "\n",
    "#mMatrix=n.linalg.inv(fMatrix)\n",
    "\n",
    "fdata_n=n.dot(mMatrix,fdata_un)\n",
    "fsignal_n=n.dot(mMatrix,fsignal_un)\n",
    "fforegrounds_n=n.dot(mMatrix,fforegrounds_un)\n",
    "\n"
   ]
  },
  {
   "cell_type": "code",
   "execution_count": 209,
   "metadata": {
    "collapsed": false
   },
   "outputs": [
    {
     "ename": "NameError",
     "evalue": "name 'mMatrix' is not defined",
     "output_type": "error",
     "traceback": [
      "\u001b[0;31m---------------------------------------------------------------------------\u001b[0m",
      "\u001b[0;31mNameError\u001b[0m                                 Traceback (most recent call last)",
      "\u001b[0;32m<ipython-input-209-5e7764034263>\u001b[0m in \u001b[0;36m<module>\u001b[0;34m()\u001b[0m\n\u001b[0;32m----> 1\u001b[0;31m \u001b[0;32mprint\u001b[0m \u001b[0mmMatrix\u001b[0m\u001b[0;34m.\u001b[0m\u001b[0mshape\u001b[0m\u001b[0;34m\u001b[0m\u001b[0m\n\u001b[0m\u001b[1;32m      2\u001b[0m \u001b[0;32mprint\u001b[0m \u001b[0mfforegrounds_un\u001b[0m\u001b[0;34m.\u001b[0m\u001b[0mshape\u001b[0m\u001b[0;34m\u001b[0m\u001b[0m\n",
      "\u001b[0;31mNameError\u001b[0m: name 'mMatrix' is not defined"
     ]
    }
   ],
   "source": [
    "print mMatrix.shape\n",
    "print fforegrounds_un.shape"
   ]
  },
  {
   "cell_type": "code",
   "execution_count": 210,
   "metadata": {
    "collapsed": false
   },
   "outputs": [
    {
     "ename": "NameError",
     "evalue": "name 'mMatrix' is not defined",
     "output_type": "error",
     "traceback": [
      "\u001b[0;31m---------------------------------------------------------------------------\u001b[0m",
      "\u001b[0;31mNameError\u001b[0m                                 Traceback (most recent call last)",
      "\u001b[0;32m<ipython-input-210-170d45d35834>\u001b[0m in \u001b[0;36m<module>\u001b[0;34m()\u001b[0m\n\u001b[0;32m----> 1\u001b[0;31m \u001b[0mp\u001b[0m\u001b[0;34m.\u001b[0m\u001b[0mimshow\u001b[0m\u001b[0;34m(\u001b[0m\u001b[0mn\u001b[0m\u001b[0;34m.\u001b[0m\u001b[0mlog10\u001b[0m\u001b[0;34m(\u001b[0m\u001b[0mn\u001b[0m\u001b[0;34m.\u001b[0m\u001b[0mabs\u001b[0m\u001b[0;34m(\u001b[0m\u001b[0mn\u001b[0m\u001b[0;34m.\u001b[0m\u001b[0mdot\u001b[0m\u001b[0;34m(\u001b[0m\u001b[0mmMatrix\u001b[0m\u001b[0;34m,\u001b[0m\u001b[0mfMatrix\u001b[0m\u001b[0;34m)\u001b[0m\u001b[0;34m)\u001b[0m\u001b[0;34m)\u001b[0m\u001b[0;34m,\u001b[0m\u001b[0minterpolation\u001b[0m\u001b[0;34m=\u001b[0m\u001b[0;34m'nearest'\u001b[0m\u001b[0;34m,\u001b[0m\u001b[0mvmin\u001b[0m\u001b[0;34m=\u001b[0m\u001b[0;34m-\u001b[0m\u001b[0;36m18\u001b[0m\u001b[0;34m,\u001b[0m\u001b[0mvmax\u001b[0m\u001b[0;34m=\u001b[0m\u001b[0;36m0\u001b[0m\u001b[0;34m)\u001b[0m\u001b[0;34m\u001b[0m\u001b[0m\n\u001b[0m\u001b[1;32m      2\u001b[0m \u001b[0mp\u001b[0m\u001b[0;34m.\u001b[0m\u001b[0mcolorbar\u001b[0m\u001b[0;34m(\u001b[0m\u001b[0;34m)\u001b[0m\u001b[0;34m\u001b[0m\u001b[0m\n\u001b[1;32m      3\u001b[0m \u001b[0mp\u001b[0m\u001b[0;34m.\u001b[0m\u001b[0mshow\u001b[0m\u001b[0;34m(\u001b[0m\u001b[0;34m)\u001b[0m\u001b[0;34m\u001b[0m\u001b[0m\n",
      "\u001b[0;31mNameError\u001b[0m: name 'mMatrix' is not defined"
     ]
    }
   ],
   "source": [
    "p.imshow(n.log10(n.abs(n.dot(mMatrix,fMatrix))),interpolation='nearest',vmin=-18,vmax=0)\n",
    "p.colorbar()\n",
    "p.show()"
   ]
  },
  {
   "cell_type": "markdown",
   "metadata": {},
   "source": [
    "Compare the normalized power spectrum $\\widehat{p} = M \\widehat{q}$. Things definitely don't look better..."
   ]
  },
  {
   "cell_type": "code",
   "execution_count": 217,
   "metadata": {
    "collapsed": false,
    "scrolled": true
   },
   "outputs": [
    {
     "data": {
      "image/png": "[encoded data removed]",
      "text/plain": [
       "<matplotlib.figure.Figure at 0x10e4baf50>"
      ]
     },
     "metadata": {},
     "output_type": "display_data"
    }
   ],
   "source": [
    "#p.plot(delays*1e9,n.abs(fdata_un[:]),color='k',marker='o',ls='none')\n",
    "#p.plot(delays*1e9,n.abs(fsignal_un[:]),color='r',marker='o',ls='none')\n",
    "#p.plot(delays*1e9,n.abs(fforegrounds_un[:]),color='grey',marker='o',ls='none')\n",
    "\n",
    "p.plot(delays*1e9,(n.abs(fdata_n[:])),color='k',marker='x')#,ls='none')\n",
    "p.plot(delays*1e9,(n.abs(fsignal_n[:])),color='r',marker='x')#,ls='none')\n",
    "p.plot(delays*1e9,(n.abs(fforegrounds_n[:])),color='grey',marker='x')#,ls='none')\n",
    "p.yscale('log')\n"
   ]
  },
  {
   "cell_type": "markdown",
   "metadata": {},
   "source": [
    "Lets check on the window function which is equal to $W=MF=DL^\\dagger$ and compare to the unnormalized window function. We see that the unnormalized window function is a blackman harris window while the normalized one is a blackman with the lower k values excised. This seems sensible and I'm surprised that we are seeing as much foreground leakage as we are. "
   ]
  },
  {
   "cell_type": "code",
   "execution_count": 218,
   "metadata": {
    "collapsed": false
   },
   "outputs": [
    {
     "data": {
      "image/png": "[encoded data removed]",
      "text/plain": [
       "<matplotlib.figure.Figure at 0x10e2cf250>"
      ]
     },
     "metadata": {},
     "output_type": "display_data"
    }
   ],
   "source": [
    "p.imshow(n.log10(n.abs(wMatrix)),interpolation='nearest')\n",
    "p.colorbar()\n",
    "p.show()"
   ]
  },
  {
   "cell_type": "code",
   "execution_count": null,
   "metadata": {
    "collapsed": true
   },
   "outputs": [],
   "source": []
  }
 ],
 "metadata": {
  "kernelspec": {
   "display_name": "Python 2",
   "language": "python",
   "name": "python2"
  },
  "language_info": {
   "codemirror_mode": {
    "name": "ipython",
    "version": 2
   },
   "file_extension": ".py",
   "mimetype": "text/x-python",
   "name": "python",
   "nbconvert_exporter": "python",
   "pygments_lexer": "ipython2",
   "version": "2.7.12"
  }
 },
 "nbformat": 4,
 "nbformat_minor": 0
}
